{
 "cells": [
  {
   "cell_type": "code",
   "execution_count": 1,
   "metadata": {},
   "outputs": [],
   "source": [
    "import pandas as pd"
   ]
  },
  {
   "cell_type": "code",
   "execution_count": 2,
   "metadata": {},
   "outputs": [],
   "source": [
    "priority = pd.read_csv('all_states_racegender.csv', encoding='latin')"
   ]
  },
  {
   "cell_type": "code",
   "execution_count": 4,
   "metadata": {},
   "outputs": [
    {
     "data": {
      "text/plain": [
       "array(['SCH_ENR_AS', 'SCH_ENR_BL', 'SCH_ENR_HP', 'SCH_ENR_WH',\n",
       "       'SCH_ENR_TR', 'SCH_ENR_HI', 'SCH_ENR_AM'], dtype=object)"
      ]
     },
     "metadata": {},
     "output_type": "display_data"
    }
   ],
   "source": [
    "display(priority.Race.unique())"
   ]
  },
  {
   "cell_type": "code",
   "execution_count": 5,
   "metadata": {},
   "outputs": [
    {
     "data": {
      "text/plain": [
       "array(['TOT_ENR_M', 'TOT_ENR_F'], dtype=object)"
      ]
     },
     "metadata": {},
     "output_type": "display_data"
    }
   ],
   "source": [
    "display(priority.Gender.unique())"
   ]
  },
  {
   "cell_type": "code",
   "execution_count": 6,
   "metadata": {},
   "outputs": [],
   "source": [
    "def rank(priority):\n",
    "    val1 = priority['Race']\n",
    "    val2 = priority['Gender']\n",
    "    if val1=='SCH_ENR_AS':\n",
    "        if val2 == 'TOT_ENR_M':\n",
    "            return 1\n",
    "        else:\n",
    "            return 2\n",
    "    if val1=='SCH_ENR_BL':\n",
    "        if val2 == 'TOT_ENR_M':\n",
    "            return 3\n",
    "        else:\n",
    "            return 4\n",
    "    if val1=='SCH_ENR_HP':\n",
    "        if val2 == 'TOT_ENR_M':\n",
    "            return 5\n",
    "        else:\n",
    "            return 6\n",
    "    if val1=='SCH_ENR_WH':\n",
    "        if val2 == 'TOT_ENR_M':\n",
    "            return 7\n",
    "        else:\n",
    "            return 8\n",
    "    if val1=='SCH_ENR_TR':\n",
    "        if val2 == 'TOT_ENR_M':\n",
    "            return 9\n",
    "        else:\n",
    "            return 10\n",
    "    if val1=='SCH_ENR_HI':\n",
    "        if val2 == 'TOT_ENR_M':\n",
    "            return 11\n",
    "        else:\n",
    "            return 12\n",
    "    if val1=='SCH_ENR_AM':\n",
    "        if val2 == 'TOT_ENR_M':\n",
    "            return 13\n",
    "        else:\n",
    "            return 14"
   ]
  },
  {
   "cell_type": "code",
   "execution_count": 7,
   "metadata": {},
   "outputs": [],
   "source": [
    "priority['PRIORITY'] = priority.apply(rank, axis=1)"
   ]
  },
  {
   "cell_type": "code",
   "execution_count": 10,
   "metadata": {},
   "outputs": [],
   "source": [
    "priority.to_csv(\"priority.csv\")"
   ]
  },
  {
   "cell_type": "code",
   "execution_count": null,
   "metadata": {},
   "outputs": [],
   "source": []
  }
 ],
 "metadata": {
  "kernelspec": {
   "display_name": "Python 3",
   "language": "python",
   "name": "python3"
  },
  "language_info": {
   "codemirror_mode": {
    "name": "ipython",
    "version": 3
   },
   "file_extension": ".py",
   "mimetype": "text/x-python",
   "name": "python",
   "nbconvert_exporter": "python",
   "pygments_lexer": "ipython3",
   "version": "3.7.1"
  }
 },
 "nbformat": 4,
 "nbformat_minor": 2
}
