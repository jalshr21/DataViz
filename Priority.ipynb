{
 "cells": [
  {
   "cell_type": "code",
   "execution_count": 1,
   "metadata": {},
   "outputs": [],
   "source": [
    "import pandas as pd"
   ]
  },
  {
   "cell_type": "code",
   "execution_count": 2,
   "metadata": {},
   "outputs": [],
   "source": [
    "priority = pd.read_csv('all_states_racegender.csv', encoding='latin')"
   ]
  },
  {
   "cell_type": "code",
   "execution_count": 3,
   "metadata": {},
   "outputs": [
    {
     "data": {
      "text/plain": [
       "array(['SCH_ENR_HI', 'SCH_ENR_AM', 'SCH_ENR_AS', 'SCH_ENR_HP',\n",
       "       'SCH_ENR_BL', 'SCH_ENR_WH', 'SCH_ENR_TR'], dtype=object)"
      ]
     },
     "metadata": {},
     "output_type": "display_data"
    }
   ],
   "source": [
    "display(priority.Race.unique())"
   ]
  },
  {
   "cell_type": "code",
   "execution_count": 4,
   "metadata": {},
   "outputs": [
    {
     "data": {
      "text/plain": [
       "array(['TOT_ENR_M', 'TOT_ENR_F'], dtype=object)"
      ]
     },
     "metadata": {},
     "output_type": "display_data"
    }
   ],
   "source": [
    "display(priority.Gender.unique())"
   ]
  },
  {
   "cell_type": "code",
   "execution_count": 5,
   "metadata": {},
   "outputs": [],
   "source": [
    "def rank(priority):\n",
    "    val1 = priority['Race']\n",
    "    val2 = priority['Gender']\n",
    "    if val1=='SCH_ENR_AS':\n",
    "        if val2 == 'TOT_ENR_M':\n",
    "            return 1\n",
    "        else:\n",
    "            return 2\n",
    "    if val1=='SCH_ENR_BL':\n",
    "        if val2 == 'TOT_ENR_M':\n",
    "            return 3\n",
    "        else:\n",
    "            return 4\n",
    "    if val1=='SCH_ENR_HP':\n",
    "        if val2 == 'TOT_ENR_M':\n",
    "            return 5\n",
    "        else:\n",
    "            return 6\n",
    "    if val1=='SCH_ENR_WH':\n",
    "        if val2 == 'TOT_ENR_M':\n",
    "            return 7\n",
    "        else:\n",
    "            return 8\n",
    "    if val1=='SCH_ENR_TR':\n",
    "        if val2 == 'TOT_ENR_M':\n",
    "            return 9\n",
    "        else:\n",
    "            return 10\n",
    "    if val1=='SCH_ENR_HI':\n",
    "        if val2 == 'TOT_ENR_M':\n",
    "            return 11\n",
    "        else:\n",
    "            return 12\n",
    "    if val1=='SCH_ENR_AM':\n",
    "        if val2 == 'TOT_ENR_M':\n",
    "            return 13\n",
    "        else:\n",
    "            return 14"
   ]
  },
  {
   "cell_type": "code",
   "execution_count": 6,
   "metadata": {},
   "outputs": [],
   "source": [
    "priority['PRIORITY'] = priority.apply(rank, axis=1)"
   ]
  },
  {
   "cell_type": "code",
   "execution_count": 7,
   "metadata": {},
   "outputs": [
    {
     "data": {
      "text/plain": [
       "Index(['Unnamed: 0', 'Unnamed: 0.1', 'LEA_STATE_NAME', 'LEA_STATE', 'LEA_NAME',\n",
       "       'SCH_NAME', 'TOT_ENR_M', 'TOT_ENR_F', 'SCH_APENR_IND', 'SCH_APCOURSES',\n",
       "       'TOT_APENR_M', 'TOT_APENR_F', 'TOT_SATACT_M', 'TOT_SATACT_F',\n",
       "       'TOT_HBREPORTED_SEX_M', 'TOT_HBREPORTED_SEX_F', 'TOT_HBREPORTED_DIS_M',\n",
       "       'TOT_HBREPORTED_DIS_F', 'TOT_HBREPORTED_RAC_M', 'TOT_HBREPORTED_RAC_F',\n",
       "       'TOT_HBDISCIPLINED_SEX_M', 'TOT_HBDISCIPLINED_SEX_F',\n",
       "       'TOT_HBDISCIPLINED_RAC_M', 'TOT_HBDISCIPLINED_RAC_F',\n",
       "       'TOT_HBDISCIPLINED_DIS_M', 'TOT_HBDISCIPLINED_DIS_F',\n",
       "       'TOT_DISCWODIS_ISS_M', 'TOT_DISCWODIS_ISS_F', 'TOT_DISCWDIS_ISS_IDEA_M',\n",
       "       'TOT_DISCWDIS_ISS_IDEA_F', 'TOT_DISCWODIS_ARR_M', 'TOT_DISCWODIS_ARR_F',\n",
       "       'TOT_DISCWDIS_ARR_IDEA_M', 'TOT_DISCWDIS_ARR_IDEA_F',\n",
       "       'TOT_DISCWODIS_EXPWE_M', 'TOT_DISCWODIS_EXPWE_F',\n",
       "       'TOT_DISCWODIS_EXPWOE_M', 'TOT_DISCWODIS_EXPWOE_F',\n",
       "       'TOT_DISCWDIS_EXPWOE_IDEA_M', 'TOT_DISCWDIS_EXPWE_IDEA_M',\n",
       "       'TOT_DISCWDIS_EXPWE_IDEA_F', 'TOT_DISCWDIS_EXPWOE_IDEA_F',\n",
       "       'TOT_DISCWDIS_EXPZT_IDEA_M', 'TOT_DISCWDIS_EXPZT_IDEA_F', 'TOT_ENR',\n",
       "       'AVG_ENR', 'TOT_SATACT', 'VAL_SAT', 'VAL_WH', 'VAL_BL', 'VAL_HP',\n",
       "       'VAL_TR', 'VAL_HI', 'VAL_AS', 'VAL_AM', 'VAL_RACE', 'RACE_SCORE',\n",
       "       'VAL_GENDER', 'GENDER_SCORE', 'VAL_AP_COURSES', 'AP_SCORE',\n",
       "       'VAL_SATACT_COURSES', 'SATACT_SCORE', 'COURSES_SCORE', 'TOT_ARR',\n",
       "       'TOT_EXP', 'TOT_HARR', 'TOT_SUSP', 'VAL_OFFENSES', 'OFFENSES_SCORE',\n",
       "       'SCHOOL_SCORE', 'ABLE_MALE', 'ABLE_FEMALE', 'DISABLE_MALE',\n",
       "       'DISABLE_FEMALE', 'Value', 'Race', 'Gender', 'GenderValue', 'PRIORITY'],\n",
       "      dtype='object')"
      ]
     },
     "execution_count": 7,
     "metadata": {},
     "output_type": "execute_result"
    }
   ],
   "source": [
    "priority.keys()"
   ]
  },
  {
   "cell_type": "code",
   "execution_count": 8,
   "metadata": {},
   "outputs": [],
   "source": [
    "priority['BUL_SEX'] = priority['TOT_HBREPORTED_SEX_M'] + priority['TOT_HBREPORTED_SEX_F']\n",
    "priority['BUL_DIS'] = priority['TOT_HBREPORTED_DIS_M'] + priority['TOT_HBREPORTED_DIS_F']\n",
    "priority['BUL_RAC'] = priority['TOT_HBREPORTED_RAC_M'] + priority['TOT_HBREPORTED_RAC_F']\n",
    "priority['EXP_ABLE_M'] = priority['TOT_DISCWODIS_EXPWE_M'] + priority['TOT_DISCWODIS_EXPWOE_M']\n",
    "priority['EXP_ABLE_F'] = priority['TOT_DISCWODIS_EXPWE_F'] + priority['TOT_DISCWODIS_EXPWOE_F']\n",
    "priority['EXP_DIS_M'] = priority['TOT_DISCWDIS_EXPWE_IDEA_M'] + priority['TOT_DISCWDIS_EXPWOE_IDEA_M']\n",
    "priority['EXP_DIS_F'] = priority['TOT_DISCWDIS_EXPWE_IDEA_F'] + priority['TOT_DISCWDIS_EXPWOE_IDEA_F']"
   ]
  },
  {
   "cell_type": "code",
   "execution_count": 9,
   "metadata": {},
   "outputs": [
    {
     "data": {
      "text/plain": [
       "Index(['Unnamed: 0', 'Unnamed: 0.1', 'LEA_STATE_NAME', 'LEA_STATE', 'LEA_NAME',\n",
       "       'SCH_NAME', 'TOT_ENR_M', 'TOT_ENR_F', 'SCH_APENR_IND', 'SCH_APCOURSES',\n",
       "       'TOT_APENR_M', 'TOT_APENR_F', 'TOT_SATACT_M', 'TOT_SATACT_F',\n",
       "       'TOT_HBREPORTED_SEX_M', 'TOT_HBREPORTED_SEX_F', 'TOT_HBREPORTED_DIS_M',\n",
       "       'TOT_HBREPORTED_DIS_F', 'TOT_HBREPORTED_RAC_M', 'TOT_HBREPORTED_RAC_F',\n",
       "       'TOT_HBDISCIPLINED_SEX_M', 'TOT_HBDISCIPLINED_SEX_F',\n",
       "       'TOT_HBDISCIPLINED_RAC_M', 'TOT_HBDISCIPLINED_RAC_F',\n",
       "       'TOT_HBDISCIPLINED_DIS_M', 'TOT_HBDISCIPLINED_DIS_F',\n",
       "       'TOT_DISCWODIS_ISS_M', 'TOT_DISCWODIS_ISS_F', 'TOT_DISCWDIS_ISS_IDEA_M',\n",
       "       'TOT_DISCWDIS_ISS_IDEA_F', 'TOT_DISCWODIS_ARR_M', 'TOT_DISCWODIS_ARR_F',\n",
       "       'TOT_DISCWDIS_ARR_IDEA_M', 'TOT_DISCWDIS_ARR_IDEA_F',\n",
       "       'TOT_DISCWODIS_EXPWE_M', 'TOT_DISCWODIS_EXPWE_F',\n",
       "       'TOT_DISCWODIS_EXPWOE_M', 'TOT_DISCWODIS_EXPWOE_F',\n",
       "       'TOT_DISCWDIS_EXPWOE_IDEA_M', 'TOT_DISCWDIS_EXPWE_IDEA_M',\n",
       "       'TOT_DISCWDIS_EXPWE_IDEA_F', 'TOT_DISCWDIS_EXPWOE_IDEA_F',\n",
       "       'TOT_DISCWDIS_EXPZT_IDEA_M', 'TOT_DISCWDIS_EXPZT_IDEA_F', 'TOT_ENR',\n",
       "       'AVG_ENR', 'TOT_SATACT', 'VAL_SAT', 'VAL_WH', 'VAL_BL', 'VAL_HP',\n",
       "       'VAL_TR', 'VAL_HI', 'VAL_AS', 'VAL_AM', 'VAL_RACE', 'RACE_SCORE',\n",
       "       'VAL_GENDER', 'GENDER_SCORE', 'VAL_AP_COURSES', 'AP_SCORE',\n",
       "       'VAL_SATACT_COURSES', 'SATACT_SCORE', 'COURSES_SCORE', 'TOT_ARR',\n",
       "       'TOT_EXP', 'TOT_HARR', 'TOT_SUSP', 'VAL_OFFENSES', 'OFFENSES_SCORE',\n",
       "       'SCHOOL_SCORE', 'ABLE_MALE', 'ABLE_FEMALE', 'DISABLE_MALE',\n",
       "       'DISABLE_FEMALE', 'Value', 'Race', 'Gender', 'GenderValue', 'PRIORITY',\n",
       "       'BUL_SEX', 'BUL_DIS', 'BUL_RAC', 'EXP_ABLE_M', 'EXP_ABLE_F',\n",
       "       'EXP_DIS_M', 'EXP_DIS_F'],\n",
       "      dtype='object')"
      ]
     },
     "execution_count": 9,
     "metadata": {},
     "output_type": "execute_result"
    }
   ],
   "source": [
    "priority.keys()"
   ]
  },
  {
   "cell_type": "code",
   "execution_count": 10,
   "metadata": {},
   "outputs": [],
   "source": [
    "priority.to_csv(\"priority_p.csv\")"
   ]
  },
  {
   "cell_type": "code",
   "execution_count": null,
   "metadata": {},
   "outputs": [],
   "source": []
  }
 ],
 "metadata": {
  "kernelspec": {
   "display_name": "Python 3",
   "language": "python",
   "name": "python3"
  },
  "language_info": {
   "codemirror_mode": {
    "name": "ipython",
    "version": 3
   },
   "file_extension": ".py",
   "mimetype": "text/x-python",
   "name": "python",
   "nbconvert_exporter": "python",
   "pygments_lexer": "ipython3",
   "version": "3.6.5"
  }
 },
 "nbformat": 4,
 "nbformat_minor": 2
}
