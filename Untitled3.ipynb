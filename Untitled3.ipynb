{
 "cells": [
  {
   "cell_type": "code",
   "execution_count": 1,
   "metadata": {},
   "outputs": [],
   "source": [
    "import pandas as pd"
   ]
  },
  {
   "cell_type": "code",
   "execution_count": 2,
   "metadata": {},
   "outputs": [],
   "source": [
    "school_layout = pd.read_csv('nedata.csv', encoding='latin')"
   ]
  },
  {
   "cell_type": "code",
   "execution_count": 3,
   "metadata": {},
   "outputs": [
    {
     "name": "stdout",
     "output_type": "stream",
     "text": [
      "Index(['Unnamed: 0', 'LEA_STATE_NAME', 'LEA_STATE', 'LEA_NAME', 'SCH_NAME',\n",
      "       'SCH_ENR_HI_M', 'SCH_ENR_HI_F', 'SCH_ENR_HI', 'VAL_HI', 'Score_HI',\n",
      "       'SCH_ENR_AM_M', 'SCH_ENR_AM_F', 'SCH_ENR_AM', 'VAL_AM', 'Score_AM',\n",
      "       'SCH_ENR_AS_M', 'SCH_ENR_AS_F', 'SCH_ENR_HP_M', 'SCH_ENR_HP_F',\n",
      "       'SCH_ENR_BL_M', 'SCH_ENR_BL_F', 'SCH_ENR_WH_M', 'SCH_ENR_WH_F',\n",
      "       'SCH_ENR_TR_M', 'SCH_ENR_TR_F', 'TOT_ENR_M', 'TOT_ENR_F',\n",
      "       'SCH_APENR_IND', 'SCH_APCOURSES', 'TOT_APENR_M', 'TOT_APENR_F',\n",
      "       'TOT_SATACT_M', 'TOT_SATACT_F', 'TOT_HBREPORTED_SEX_M',\n",
      "       'TOT_HBREPORTED_SEX_F', 'TOT_HBREPORTED_DIS_M', 'TOT_HBREPORTED_DIS_F',\n",
      "       'TOT_HBREPORTED_RAC_M', 'TOT_HBREPORTED_RAC_F',\n",
      "       'TOT_HBDISCIPLINED_SEX_M', 'TOT_HBDISCIPLINED_SEX_F',\n",
      "       'TOT_HBDISCIPLINED_RAC_M', 'TOT_HBDISCIPLINED_RAC_F',\n",
      "       'TOT_HBDISCIPLINED_DIS_M', 'TOT_HBDISCIPLINED_DIS_F',\n",
      "       'TOT_DISCWODIS_ISS_M', 'TOT_DISCWODIS_ISS_F', 'TOT_DISCWDIS_ISS_IDEA_M',\n",
      "       'TOT_DISCWDIS_ISS_IDEA_F', 'TOT_DISCWODIS_ARR_M', 'TOT_DISCWODIS_ARR_F',\n",
      "       'TOT_DISCWDIS_ARR_IDEA_M', 'TOT_DISCWDIS_ARR_IDEA_F',\n",
      "       'TOT_DISCWODIS_EXPWE_M', 'TOT_DISCWODIS_EXPWE_F',\n",
      "       'TOT_DISCWODIS_EXPWOE_M', 'TOT_DISCWODIS_EXPWOE_F',\n",
      "       'TOT_DISCWDIS_EXPWOE_IDEA_M', 'TOT_DISCWDIS_EXPWOE_IDEA_F',\n",
      "       'TOT_DISCWDIS_EXPZT_IDEA_M', 'TOT_DISCWDIS_EXPZT_IDEA_F', 'TOT_SATACT',\n",
      "       'TOT_ENR', 'AVG_ENR', 'VAL_SAT'],\n",
      "      dtype='object')\n"
     ]
    }
   ],
   "source": [
    "print(school_layout.keys())"
   ]
  },
  {
   "cell_type": "code",
   "execution_count": 4,
   "metadata": {},
   "outputs": [],
   "source": [
    "school_layout = school_layout.drop(columns=['TOT_HBDISCIPLINED_SEX_M', 'TOT_HBDISCIPLINED_SEX_F', 'TOT_HBDISCIPLINED_RAC_M',\n",
    "                           'TOT_HBDISCIPLINED_RAC_F', 'TOT_HBDISCIPLINED_DIS_M', 'TOT_HBDISCIPLINED_DIS_F'])"
   ]
  },
  {
   "cell_type": "code",
   "execution_count": 5,
   "metadata": {},
   "outputs": [
    {
     "name": "stdout",
     "output_type": "stream",
     "text": [
      "Index(['Unnamed: 0', 'LEA_STATE_NAME', 'LEA_STATE', 'LEA_NAME', 'SCH_NAME',\n",
      "       'SCH_ENR_HI_M', 'SCH_ENR_HI_F', 'SCH_ENR_HI', 'VAL_HI', 'Score_HI',\n",
      "       'SCH_ENR_AM_M', 'SCH_ENR_AM_F', 'SCH_ENR_AM', 'VAL_AM', 'Score_AM',\n",
      "       'SCH_ENR_AS_M', 'SCH_ENR_AS_F', 'SCH_ENR_HP_M', 'SCH_ENR_HP_F',\n",
      "       'SCH_ENR_BL_M', 'SCH_ENR_BL_F', 'SCH_ENR_WH_M', 'SCH_ENR_WH_F',\n",
      "       'SCH_ENR_TR_M', 'SCH_ENR_TR_F', 'TOT_ENR_M', 'TOT_ENR_F',\n",
      "       'SCH_APENR_IND', 'SCH_APCOURSES', 'TOT_APENR_M', 'TOT_APENR_F',\n",
      "       'TOT_SATACT_M', 'TOT_SATACT_F', 'TOT_HBREPORTED_SEX_M',\n",
      "       'TOT_HBREPORTED_SEX_F', 'TOT_HBREPORTED_DIS_M', 'TOT_HBREPORTED_DIS_F',\n",
      "       'TOT_HBREPORTED_RAC_M', 'TOT_HBREPORTED_RAC_F', 'TOT_DISCWODIS_ISS_M',\n",
      "       'TOT_DISCWODIS_ISS_F', 'TOT_DISCWDIS_ISS_IDEA_M',\n",
      "       'TOT_DISCWDIS_ISS_IDEA_F', 'TOT_DISCWODIS_ARR_M', 'TOT_DISCWODIS_ARR_F',\n",
      "       'TOT_DISCWDIS_ARR_IDEA_M', 'TOT_DISCWDIS_ARR_IDEA_F',\n",
      "       'TOT_DISCWODIS_EXPWE_M', 'TOT_DISCWODIS_EXPWE_F',\n",
      "       'TOT_DISCWODIS_EXPWOE_M', 'TOT_DISCWODIS_EXPWOE_F',\n",
      "       'TOT_DISCWDIS_EXPWOE_IDEA_M', 'TOT_DISCWDIS_EXPWOE_IDEA_F',\n",
      "       'TOT_DISCWDIS_EXPZT_IDEA_M', 'TOT_DISCWDIS_EXPZT_IDEA_F', 'TOT_SATACT',\n",
      "       'TOT_ENR', 'AVG_ENR', 'VAL_SAT'],\n",
      "      dtype='object')\n"
     ]
    }
   ],
   "source": [
    "print(school_layout.keys())"
   ]
  },
  {
   "cell_type": "code",
   "execution_count": 6,
   "metadata": {},
   "outputs": [],
   "source": [
    "school_layout['SCH_ENR_AS'] = school_layout['SCH_ENR_AS_F']+school_layout['SCH_ENR_AS_M']"
   ]
  },
  {
   "cell_type": "code",
   "execution_count": 7,
   "metadata": {},
   "outputs": [],
   "source": [
    "school_layout['SCH_ENR_BL'] = school_layout['SCH_ENR_BL_M']+school_layout['SCH_ENR_BL_F']"
   ]
  },
  {
   "cell_type": "code",
   "execution_count": 8,
   "metadata": {},
   "outputs": [],
   "source": [
    "school_layout['SCH_ENR_HP'] = school_layout['SCH_ENR_HP_M']+school_layout['SCH_ENR_HP_F']"
   ]
  },
  {
   "cell_type": "code",
   "execution_count": 9,
   "metadata": {},
   "outputs": [],
   "source": [
    "school_layout['SCH_ENR_WH'] = school_layout['SCH_ENR_WH_M']+school_layout['SCH_ENR_WH_F']"
   ]
  },
  {
   "cell_type": "code",
   "execution_count": 10,
   "metadata": {},
   "outputs": [],
   "source": [
    "school_layout['SCH_ENR_TR'] = school_layout['SCH_ENR_TR_M']+school_layout['SCH_ENR_TR_F']"
   ]
  },
  {
   "cell_type": "code",
   "execution_count": null,
   "metadata": {},
   "outputs": [],
   "source": [
    "#Above summation should be for 7 races I have onlt done for 5."
   ]
  },
  {
   "cell_type": "code",
   "execution_count": 11,
   "metadata": {
    "scrolled": true
   },
   "outputs": [
    {
     "name": "stdout",
     "output_type": "stream",
     "text": [
      "Index(['Unnamed: 0', 'LEA_STATE_NAME', 'LEA_STATE', 'LEA_NAME', 'SCH_NAME',\n",
      "       'SCH_ENR_HI_M', 'SCH_ENR_HI_F', 'SCH_ENR_HI', 'VAL_HI', 'Score_HI',\n",
      "       'SCH_ENR_AM_M', 'SCH_ENR_AM_F', 'SCH_ENR_AM', 'VAL_AM', 'Score_AM',\n",
      "       'SCH_ENR_AS_M', 'SCH_ENR_AS_F', 'SCH_ENR_HP_M', 'SCH_ENR_HP_F',\n",
      "       'SCH_ENR_BL_M', 'SCH_ENR_BL_F', 'SCH_ENR_WH_M', 'SCH_ENR_WH_F',\n",
      "       'SCH_ENR_TR_M', 'SCH_ENR_TR_F', 'TOT_ENR_M', 'TOT_ENR_F',\n",
      "       'SCH_APENR_IND', 'SCH_APCOURSES', 'TOT_APENR_M', 'TOT_APENR_F',\n",
      "       'TOT_SATACT_M', 'TOT_SATACT_F', 'TOT_HBREPORTED_SEX_M',\n",
      "       'TOT_HBREPORTED_SEX_F', 'TOT_HBREPORTED_DIS_M', 'TOT_HBREPORTED_DIS_F',\n",
      "       'TOT_HBREPORTED_RAC_M', 'TOT_HBREPORTED_RAC_F', 'TOT_DISCWODIS_ISS_M',\n",
      "       'TOT_DISCWODIS_ISS_F', 'TOT_DISCWDIS_ISS_IDEA_M',\n",
      "       'TOT_DISCWDIS_ISS_IDEA_F', 'TOT_DISCWODIS_ARR_M', 'TOT_DISCWODIS_ARR_F',\n",
      "       'TOT_DISCWDIS_ARR_IDEA_M', 'TOT_DISCWDIS_ARR_IDEA_F',\n",
      "       'TOT_DISCWODIS_EXPWE_M', 'TOT_DISCWODIS_EXPWE_F',\n",
      "       'TOT_DISCWODIS_EXPWOE_M', 'TOT_DISCWODIS_EXPWOE_F',\n",
      "       'TOT_DISCWDIS_EXPWOE_IDEA_M', 'TOT_DISCWDIS_EXPWOE_IDEA_F',\n",
      "       'TOT_DISCWDIS_EXPZT_IDEA_M', 'TOT_DISCWDIS_EXPZT_IDEA_F', 'TOT_SATACT',\n",
      "       'TOT_ENR', 'AVG_ENR', 'VAL_SAT', 'SCH_ENR_AS', 'SCH_ENR_BL',\n",
      "       'SCH_ENR_HP', 'SCH_ENR_WH', 'SCH_ENR_TR'],\n",
      "      dtype='object')\n"
     ]
    }
   ],
   "source": [
    "print(school_layout.keys())"
   ]
  },
  {
   "cell_type": "code",
   "execution_count": 12,
   "metadata": {},
   "outputs": [],
   "source": [
    "school_layout = school_layout.drop(columns=['SCH_ENR_HI_M','SCH_ENR_HI_F','SCH_ENR_AM_M','SCH_ENR_AM_F','SCH_ENR_AS_M','SCH_ENR_AS_F',\n",
    "                            'SCH_ENR_BL_M','SCH_ENR_BL_F','SCH_ENR_TR_M','SCH_ENR_TR_F','SCH_ENR_HP_M','SCH_ENR_HP_F',\n",
    "                            'SCH_ENR_WH_M','SCH_ENR_WH_F'])"
   ]
  },
  {
   "cell_type": "code",
   "execution_count": 13,
   "metadata": {},
   "outputs": [
    {
     "name": "stdout",
     "output_type": "stream",
     "text": [
      "Index(['Unnamed: 0', 'LEA_STATE_NAME', 'LEA_STATE', 'LEA_NAME', 'SCH_NAME',\n",
      "       'SCH_ENR_HI', 'VAL_HI', 'Score_HI', 'SCH_ENR_AM', 'VAL_AM', 'Score_AM',\n",
      "       'TOT_ENR_M', 'TOT_ENR_F', 'SCH_APENR_IND', 'SCH_APCOURSES',\n",
      "       'TOT_APENR_M', 'TOT_APENR_F', 'TOT_SATACT_M', 'TOT_SATACT_F',\n",
      "       'TOT_HBREPORTED_SEX_M', 'TOT_HBREPORTED_SEX_F', 'TOT_HBREPORTED_DIS_M',\n",
      "       'TOT_HBREPORTED_DIS_F', 'TOT_HBREPORTED_RAC_M', 'TOT_HBREPORTED_RAC_F',\n",
      "       'TOT_DISCWODIS_ISS_M', 'TOT_DISCWODIS_ISS_F', 'TOT_DISCWDIS_ISS_IDEA_M',\n",
      "       'TOT_DISCWDIS_ISS_IDEA_F', 'TOT_DISCWODIS_ARR_M', 'TOT_DISCWODIS_ARR_F',\n",
      "       'TOT_DISCWDIS_ARR_IDEA_M', 'TOT_DISCWDIS_ARR_IDEA_F',\n",
      "       'TOT_DISCWODIS_EXPWE_M', 'TOT_DISCWODIS_EXPWE_F',\n",
      "       'TOT_DISCWODIS_EXPWOE_M', 'TOT_DISCWODIS_EXPWOE_F',\n",
      "       'TOT_DISCWDIS_EXPWOE_IDEA_M', 'TOT_DISCWDIS_EXPWOE_IDEA_F',\n",
      "       'TOT_DISCWDIS_EXPZT_IDEA_M', 'TOT_DISCWDIS_EXPZT_IDEA_F', 'TOT_SATACT',\n",
      "       'TOT_ENR', 'AVG_ENR', 'VAL_SAT', 'SCH_ENR_AS', 'SCH_ENR_BL',\n",
      "       'SCH_ENR_HP', 'SCH_ENR_WH', 'SCH_ENR_TR'],\n",
      "      dtype='object')\n"
     ]
    }
   ],
   "source": [
    "print(school_layout.keys())"
   ]
  },
  {
   "cell_type": "code",
   "execution_count": 14,
   "metadata": {},
   "outputs": [],
   "source": [
    "school_layout['VAL_AS'] = (school_layout['SCH_ENR_AS'] - school_layout['AVG_ENR'])/school_layout['TOT_ENR']"
   ]
  },
  {
   "cell_type": "code",
   "execution_count": null,
   "metadata": {},
   "outputs": [],
   "source": [
    "#calculate avg enroolment = total enroll / 7 (because 7 races)"
   ]
  },
  {
   "cell_type": "code",
   "execution_count": 15,
   "metadata": {},
   "outputs": [],
   "source": [
    "school_layout['VAL_WH'] = (school_layout['SCH_ENR_WH'] - school_layout['AVG_ENR'])/school_layout['TOT_ENR']\n",
    "school_layout['VAL_BL'] = (school_layout['SCH_ENR_BL'] - school_layout['AVG_ENR'])/school_layout['TOT_ENR']\n",
    "school_layout['VAL_HP'] = (school_layout['SCH_ENR_HP'] - school_layout['AVG_ENR'])/school_layout['TOT_ENR']\n",
    "school_layout['VAL_TR'] = (school_layout['SCH_ENR_TR'] - school_layout['AVG_ENR'])/school_layout['TOT_ENR']"
   ]
  },
  {
   "cell_type": "code",
   "execution_count": null,
   "metadata": {},
   "outputs": [],
   "source": [
    "#calculate score based on val, 0 to 0.2 score is 5 0.2 tp 0.4 is 4 ans os on"
   ]
  },
  {
   "cell_type": "code",
   "execution_count": 16,
   "metadata": {},
   "outputs": [
    {
     "name": "stdout",
     "output_type": "stream",
     "text": [
      "Index(['Unnamed: 0', 'LEA_STATE_NAME', 'LEA_STATE', 'LEA_NAME', 'SCH_NAME',\n",
      "       'SCH_ENR_HI', 'VAL_HI', 'Score_HI', 'SCH_ENR_AM', 'VAL_AM', 'Score_AM',\n",
      "       'TOT_ENR_M', 'TOT_ENR_F', 'SCH_APENR_IND', 'SCH_APCOURSES',\n",
      "       'TOT_APENR_M', 'TOT_APENR_F', 'TOT_SATACT_M', 'TOT_SATACT_F',\n",
      "       'TOT_HBREPORTED_SEX_M', 'TOT_HBREPORTED_SEX_F', 'TOT_HBREPORTED_DIS_M',\n",
      "       'TOT_HBREPORTED_DIS_F', 'TOT_HBREPORTED_RAC_M', 'TOT_HBREPORTED_RAC_F',\n",
      "       'TOT_DISCWODIS_ISS_M', 'TOT_DISCWODIS_ISS_F', 'TOT_DISCWDIS_ISS_IDEA_M',\n",
      "       'TOT_DISCWDIS_ISS_IDEA_F', 'TOT_DISCWODIS_ARR_M', 'TOT_DISCWODIS_ARR_F',\n",
      "       'TOT_DISCWDIS_ARR_IDEA_M', 'TOT_DISCWDIS_ARR_IDEA_F',\n",
      "       'TOT_DISCWODIS_EXPWE_M', 'TOT_DISCWODIS_EXPWE_F',\n",
      "       'TOT_DISCWODIS_EXPWOE_M', 'TOT_DISCWODIS_EXPWOE_F',\n",
      "       'TOT_DISCWDIS_EXPWOE_IDEA_M', 'TOT_DISCWDIS_EXPWOE_IDEA_F',\n",
      "       'TOT_DISCWDIS_EXPZT_IDEA_M', 'TOT_DISCWDIS_EXPZT_IDEA_F', 'TOT_SATACT',\n",
      "       'TOT_ENR', 'AVG_ENR', 'VAL_SAT', 'SCH_ENR_AS', 'SCH_ENR_BL',\n",
      "       'SCH_ENR_HP', 'SCH_ENR_WH', 'SCH_ENR_TR', 'VAL_AS', 'VAL_WH', 'VAL_BL',\n",
      "       'VAL_HP', 'VAL_TR'],\n",
      "      dtype='object')\n"
     ]
    }
   ],
   "source": [
    "print(school_layout.keys())"
   ]
  },
  {
   "cell_type": "code",
   "execution_count": 17,
   "metadata": {},
   "outputs": [],
   "source": [
    "df2 = pd.melt(school_layout, id_vars=['Unnamed: 0', 'LEA_STATE_NAME', 'LEA_STATE', 'LEA_NAME', 'SCH_NAME',\n",
    "        'VAL_HI', 'Score_HI',  'VAL_AM', 'Score_AM',\n",
    "       'TOT_ENR_M', 'TOT_ENR_F', 'SCH_APENR_IND', 'SCH_APCOURSES',\n",
    "       'TOT_APENR_M', 'TOT_APENR_F', 'TOT_SATACT_M', 'TOT_SATACT_F',\n",
    "       'TOT_HBREPORTED_SEX_M', 'TOT_HBREPORTED_SEX_F', 'TOT_HBREPORTED_DIS_M',\n",
    "       'TOT_HBREPORTED_DIS_F', 'TOT_HBREPORTED_RAC_M', 'TOT_HBREPORTED_RAC_F',\n",
    "       'TOT_DISCWODIS_ISS_M', 'TOT_DISCWODIS_ISS_F', 'TOT_DISCWDIS_ISS_IDEA_M',\n",
    "       'TOT_DISCWDIS_ISS_IDEA_F', 'TOT_DISCWODIS_ARR_M', 'TOT_DISCWODIS_ARR_F',\n",
    "       'TOT_DISCWDIS_ARR_IDEA_M', 'TOT_DISCWDIS_ARR_IDEA_F',\n",
    "       'TOT_DISCWODIS_EXPWE_M', 'TOT_DISCWODIS_EXPWE_F',\n",
    "       'TOT_DISCWODIS_EXPWOE_M', 'TOT_DISCWODIS_EXPWOE_F',\n",
    "       'TOT_DISCWDIS_EXPWOE_IDEA_M', 'TOT_DISCWDIS_EXPWOE_IDEA_F',\n",
    "       'TOT_DISCWDIS_EXPZT_IDEA_M', 'TOT_DISCWDIS_EXPZT_IDEA_F', 'TOT_SATACT',\n",
    "       'TOT_ENR', 'AVG_ENR', 'VAL_SAT', 'VAL_AS', 'VAL_WH', 'VAL_BL',\n",
    "       'VAL_HP', 'VAL_TR'], \n",
    "                  var_name=\"Race\", value_name=\"Value\")"
   ]
  },
  {
   "cell_type": "code",
   "execution_count": 19,
   "metadata": {},
   "outputs": [
    {
     "name": "stdout",
     "output_type": "stream",
     "text": [
      "Index(['Unnamed: 0', 'LEA_STATE_NAME', 'LEA_STATE', 'LEA_NAME', 'SCH_NAME',\n",
      "       'VAL_HI', 'Score_HI', 'VAL_AM', 'Score_AM', 'TOT_ENR_M', 'TOT_ENR_F',\n",
      "       'SCH_APENR_IND', 'SCH_APCOURSES', 'TOT_APENR_M', 'TOT_APENR_F',\n",
      "       'TOT_SATACT_M', 'TOT_SATACT_F', 'TOT_HBREPORTED_SEX_M',\n",
      "       'TOT_HBREPORTED_SEX_F', 'TOT_HBREPORTED_DIS_M', 'TOT_HBREPORTED_DIS_F',\n",
      "       'TOT_HBREPORTED_RAC_M', 'TOT_HBREPORTED_RAC_F', 'TOT_DISCWODIS_ISS_M',\n",
      "       'TOT_DISCWODIS_ISS_F', 'TOT_DISCWDIS_ISS_IDEA_M',\n",
      "       'TOT_DISCWDIS_ISS_IDEA_F', 'TOT_DISCWODIS_ARR_M', 'TOT_DISCWODIS_ARR_F',\n",
      "       'TOT_DISCWDIS_ARR_IDEA_M', 'TOT_DISCWDIS_ARR_IDEA_F',\n",
      "       'TOT_DISCWODIS_EXPWE_M', 'TOT_DISCWODIS_EXPWE_F',\n",
      "       'TOT_DISCWODIS_EXPWOE_M', 'TOT_DISCWODIS_EXPWOE_F',\n",
      "       'TOT_DISCWDIS_EXPWOE_IDEA_M', 'TOT_DISCWDIS_EXPWOE_IDEA_F',\n",
      "       'TOT_DISCWDIS_EXPZT_IDEA_M', 'TOT_DISCWDIS_EXPZT_IDEA_F', 'TOT_SATACT',\n",
      "       'TOT_ENR', 'AVG_ENR', 'VAL_SAT', 'VAL_AS', 'VAL_WH', 'VAL_BL', 'VAL_HP',\n",
      "       'VAL_TR', 'Race', 'Value'],\n",
      "      dtype='object')\n"
     ]
    }
   ],
   "source": [
    "print(df2.keys())"
   ]
  },
  {
   "cell_type": "code",
   "execution_count": 20,
   "metadata": {},
   "outputs": [],
   "source": [
    "df2 = pd.melt(df2, id_vars=['Unnamed: 0', 'LEA_STATE_NAME', 'LEA_STATE', 'LEA_NAME', 'SCH_NAME',\n",
    "        'VAL_HI', 'Score_HI',  'VAL_AM', 'Score_AM',\n",
    "        'SCH_APENR_IND', 'SCH_APCOURSES',\n",
    "       'TOT_APENR_M', 'TOT_APENR_F', 'TOT_SATACT_M', 'TOT_SATACT_F',\n",
    "       'TOT_HBREPORTED_SEX_M', 'TOT_HBREPORTED_SEX_F', 'TOT_HBREPORTED_DIS_M',\n",
    "       'TOT_HBREPORTED_DIS_F', 'TOT_HBREPORTED_RAC_M', 'TOT_HBREPORTED_RAC_F',\n",
    "       'TOT_DISCWODIS_ISS_M', 'TOT_DISCWODIS_ISS_F', 'TOT_DISCWDIS_ISS_IDEA_M',\n",
    "       'TOT_DISCWDIS_ISS_IDEA_F', 'TOT_DISCWODIS_ARR_M', 'TOT_DISCWODIS_ARR_F',\n",
    "       'TOT_DISCWDIS_ARR_IDEA_M', 'TOT_DISCWDIS_ARR_IDEA_F',\n",
    "       'TOT_DISCWODIS_EXPWE_M', 'TOT_DISCWODIS_EXPWE_F',\n",
    "       'TOT_DISCWODIS_EXPWOE_M', 'TOT_DISCWODIS_EXPWOE_F',\n",
    "       'TOT_DISCWDIS_EXPWOE_IDEA_M', 'TOT_DISCWDIS_EXPWOE_IDEA_F',\n",
    "       'TOT_DISCWDIS_EXPZT_IDEA_M', 'TOT_DISCWDIS_EXPZT_IDEA_F', 'TOT_SATACT',\n",
    "       'TOT_ENR', 'AVG_ENR', 'VAL_SAT', 'VAL_AS', 'VAL_WH', 'VAL_BL',\n",
    "       'VAL_HP', 'VAL_TR','Race', 'Value'], \n",
    "                  var_name=\"Gender\", value_name=\"GenderValue\")"
   ]
  },
  {
   "cell_type": "code",
   "execution_count": 21,
   "metadata": {},
   "outputs": [
    {
     "name": "stdout",
     "output_type": "stream",
     "text": [
      "Index(['Unnamed: 0', 'LEA_STATE_NAME', 'LEA_STATE', 'LEA_NAME', 'SCH_NAME',\n",
      "       'VAL_HI', 'Score_HI', 'VAL_AM', 'Score_AM', 'SCH_APENR_IND',\n",
      "       'SCH_APCOURSES', 'TOT_APENR_M', 'TOT_APENR_F', 'TOT_SATACT_M',\n",
      "       'TOT_SATACT_F', 'TOT_HBREPORTED_SEX_M', 'TOT_HBREPORTED_SEX_F',\n",
      "       'TOT_HBREPORTED_DIS_M', 'TOT_HBREPORTED_DIS_F', 'TOT_HBREPORTED_RAC_M',\n",
      "       'TOT_HBREPORTED_RAC_F', 'TOT_DISCWODIS_ISS_M', 'TOT_DISCWODIS_ISS_F',\n",
      "       'TOT_DISCWDIS_ISS_IDEA_M', 'TOT_DISCWDIS_ISS_IDEA_F',\n",
      "       'TOT_DISCWODIS_ARR_M', 'TOT_DISCWODIS_ARR_F', 'TOT_DISCWDIS_ARR_IDEA_M',\n",
      "       'TOT_DISCWDIS_ARR_IDEA_F', 'TOT_DISCWODIS_EXPWE_M',\n",
      "       'TOT_DISCWODIS_EXPWE_F', 'TOT_DISCWODIS_EXPWOE_M',\n",
      "       'TOT_DISCWODIS_EXPWOE_F', 'TOT_DISCWDIS_EXPWOE_IDEA_M',\n",
      "       'TOT_DISCWDIS_EXPWOE_IDEA_F', 'TOT_DISCWDIS_EXPZT_IDEA_M',\n",
      "       'TOT_DISCWDIS_EXPZT_IDEA_F', 'TOT_SATACT', 'TOT_ENR', 'AVG_ENR',\n",
      "       'VAL_SAT', 'VAL_AS', 'VAL_WH', 'VAL_BL', 'VAL_HP', 'VAL_TR', 'Race',\n",
      "       'Value', 'Gender', 'GenderValue'],\n",
      "      dtype='object')\n"
     ]
    }
   ],
   "source": [
    "print(df2.keys())"
   ]
  },
  {
   "cell_type": "code",
   "execution_count": 22,
   "metadata": {},
   "outputs": [],
   "source": [
    "df2.to_csv(\"racegender.csv\")"
   ]
  },
  {
   "cell_type": "markdown",
   "metadata": {},
   "source": [
    "NOTE:\n",
    "1) CAlculate scores for race\n",
    "2) calculate scores for gender  : absolute diff between tot_enr_m and tot_enr_F divide by tot-enr : do same scoring as race\n",
    "3) Calculate score for AP : ap-tot/tot-enr . score is reverse of race score. do same thing for SAT/ACT and take avg of both for tot score.\n",
    "4) Calculate score for offenses : \n",
    "Ignore IDEa columns. Calculate Tot by adding M+F. AT the end one column each for arrest(0.4), expulsion(0.2), suspension(0.1), harrasment(0.3). Multiply by weights (given) divide by enrollment and then assign scores similar to race. lower the better.\n",
    "5) Total score : Avg of above\n",
    "6)Change all negative value to 0s, drop schools with tot-enr = 0\n",
    "\n",
    "7)List of final columns we need: 4 scores of race,gender,ap and offenses, 1 overall score, tot_enr, tot-enr-m, tot-enr-f, race, value of the race, all idefication columns(refer google doc), \n",
    "    "
   ]
  },
  {
   "cell_type": "code",
   "execution_count": null,
   "metadata": {},
   "outputs": [],
   "source": [
    "var diffDimension = ndx.dimension(function(d){\n",
    "\t\treturn Math.abs(d.TOT_ENR_M - d.TOT_ENR_F);\n",
    "\t});\n",
    "var diffGroup = diffDimension.group().reduceCount();\n",
    "subjectChart\n",
    "    .width(768)\n",
    "        .height(480)\n",
    "        .x(d3.scale.linear().domain([50,100]))\n",
    "        .brushOn(false)\n",
    "        .dimension(diffDimension)\n",
    "        .group(diffGroup); \n",
    "dc.renderAll();\n",
    "dc.redrawAll();        \n",
    "        "
   ]
  }
 ],
 "metadata": {
  "kernelspec": {
   "display_name": "Python 3",
   "language": "python",
   "name": "python3"
  },
  "language_info": {
   "codemirror_mode": {
    "name": "ipython",
    "version": 3
   },
   "file_extension": ".py",
   "mimetype": "text/x-python",
   "name": "python",
   "nbconvert_exporter": "python",
   "pygments_lexer": "ipython3",
   "version": "3.6.5"
  }
 },
 "nbformat": 4,
 "nbformat_minor": 2
}
