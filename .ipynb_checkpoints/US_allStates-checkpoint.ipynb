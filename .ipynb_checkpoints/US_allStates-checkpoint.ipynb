{
 "cells": [
  {
   "cell_type": "code",
   "execution_count": 1,
   "metadata": {},
   "outputs": [],
   "source": [
    "import pandas as pd"
   ]
  },
  {
   "cell_type": "code",
   "execution_count": 2,
   "metadata": {},
   "outputs": [
    {
     "name": "stderr",
     "output_type": "stream",
     "text": [
      "C:\\Users\\prach\\Anaconda3\\lib\\site-packages\\IPython\\core\\interactiveshell.py:2785: DtypeWarning: Columns (2,6,23,24,25,30,31,1828) have mixed types. Specify dtype option on import or set low_memory=False.\n",
      "  interactivity=interactivity, compiler=compiler, result=result)\n"
     ]
    }
   ],
   "source": [
    "school = pd.read_csv('../../2015-16-crdc-data/Data Files and Layouts/CRDC 2015-16 School Data.csv', encoding='latin')"
   ]
  },
  {
   "cell_type": "code",
   "execution_count": 3,
   "metadata": {},
   "outputs": [
    {
     "name": "stdout",
     "output_type": "stream",
     "text": [
      "Index(['LEA_STATE', 'LEA_STATE_NAME', 'LEAID', 'LEA_NAME', 'SCHID', 'SCH_NAME',\n",
      "       'COMBOKEY', 'JJ', 'SCH_GRADE_PS', 'SCH_GRADE_KG',\n",
      "       ...\n",
      "       'SCH_FTESERVICES_PSY', 'SCH_FTESERVICES_SOC', 'SCH_JJTYPE',\n",
      "       'SCH_JJSYDAYS', 'SCH_JJHOURS', 'SCH_JJPART_LT15', 'SCH_JJPART_15T30',\n",
      "       'SCH_JJPART_31T90', 'SCH_JJPART_91T180', 'SCH_JJPART_OV180'],\n",
      "      dtype='object', length=1836)\n"
     ]
    }
   ],
   "source": [
    "print(school.keys())"
   ]
  },
  {
   "cell_type": "code",
   "execution_count": 4,
   "metadata": {},
   "outputs": [],
   "source": [
    "columns = ['LEA_STATE_NAME','LEA_STATE','LEA_NAME','SCH_NAME','SCH_ENR_HI_M', 'SCH_ENR_HI_F', 'SCH_ENR_AM_M', 'SCH_ENR_AM_F', \n",
    "'SCH_ENR_AS_M','SCH_ENR_AS_F','SCH_ENR_HP_M','SCH_ENR_HP_F','SCH_ENR_BL_M', \n",
    "'SCH_ENR_BL_F','SCH_ENR_WH_M','SCH_ENR_WH_F','SCH_ENR_TR_M','SCH_ENR_TR_F', \n",
    "'TOT_ENR_M', 'TOT_ENR_F','SCH_APENR_IND',\n",
    "'SCH_APCOURSES', 'TOT_APENR_M', 'TOT_APENR_F', 'TOT_SATACT_M', 'TOT_SATACT_F',\n",
    "'TOT_HBREPORTED_SEX_M', 'TOT_HBREPORTED_SEX_F', 'TOT_HBREPORTED_DIS_M', 'TOT_HBREPORTED_DIS_F',\n",
    "'TOT_HBREPORTED_RAC_M', 'TOT_HBREPORTED_RAC_F', 'TOT_HBDISCIPLINED_SEX_M', 'TOT_HBDISCIPLINED_SEX_F',\n",
    "'TOT_HBDISCIPLINED_RAC_M', 'TOT_HBDISCIPLINED_RAC_F', 'TOT_HBDISCIPLINED_DIS_M', 'TOT_HBDISCIPLINED_DIS_F',\n",
    "'TOT_DISCWODIS_ISS_M', 'TOT_DISCWODIS_ISS_F','TOT_DISCWDIS_ISS_IDEA_M', 'TOT_DISCWDIS_ISS_IDEA_F',\n",
    "'TOT_DISCWODIS_ARR_M', \n",
    "'TOT_DISCWODIS_ARR_F',                   \n",
    "'TOT_DISCWDIS_ARR_IDEA_M', \n",
    "'TOT_DISCWDIS_ARR_IDEA_F',\n",
    "'TOT_DISCWODIS_EXPWE_M',\n",
    "'TOT_DISCWODIS_EXPWE_F',\n",
    "'TOT_DISCWODIS_EXPWOE_M',\n",
    "'TOT_DISCWODIS_EXPWOE_F',\n",
    "'TOT_DISCWDIS_EXPWOE_IDEA_M',\n",
    "'TOT_DISCWDIS_EXPWE_IDEA_M',\n",
    "'TOT_DISCWDIS_EXPWE_IDEA_F',\n",
    "'TOT_DISCWDIS_EXPWOE_IDEA_F',\n",
    "'TOT_DISCWDIS_EXPZT_IDEA_M',\n",
    "'TOT_DISCWDIS_EXPZT_IDEA_F']"
   ]
  },
  {
   "cell_type": "code",
   "execution_count": 5,
   "metadata": {},
   "outputs": [],
   "source": [
    "school = school[columns]"
   ]
  },
  {
   "cell_type": "code",
   "execution_count": 6,
   "metadata": {},
   "outputs": [
    {
     "name": "stdout",
     "output_type": "stream",
     "text": [
      "Index(['LEA_STATE_NAME', 'LEA_STATE', 'LEA_NAME', 'SCH_NAME', 'SCH_ENR_HI_M',\n",
      "       'SCH_ENR_HI_F', 'SCH_ENR_AM_M', 'SCH_ENR_AM_F', 'SCH_ENR_AS_M',\n",
      "       'SCH_ENR_AS_F', 'SCH_ENR_HP_M', 'SCH_ENR_HP_F', 'SCH_ENR_BL_M',\n",
      "       'SCH_ENR_BL_F', 'SCH_ENR_WH_M', 'SCH_ENR_WH_F', 'SCH_ENR_TR_M',\n",
      "       'SCH_ENR_TR_F', 'TOT_ENR_M', 'TOT_ENR_F', 'SCH_APENR_IND',\n",
      "       'SCH_APCOURSES', 'TOT_APENR_M', 'TOT_APENR_F', 'TOT_SATACT_M',\n",
      "       'TOT_SATACT_F', 'TOT_HBREPORTED_SEX_M', 'TOT_HBREPORTED_SEX_F',\n",
      "       'TOT_HBREPORTED_DIS_M', 'TOT_HBREPORTED_DIS_F', 'TOT_HBREPORTED_RAC_M',\n",
      "       'TOT_HBREPORTED_RAC_F', 'TOT_HBDISCIPLINED_SEX_M',\n",
      "       'TOT_HBDISCIPLINED_SEX_F', 'TOT_HBDISCIPLINED_RAC_M',\n",
      "       'TOT_HBDISCIPLINED_RAC_F', 'TOT_HBDISCIPLINED_DIS_M',\n",
      "       'TOT_HBDISCIPLINED_DIS_F', 'TOT_DISCWODIS_ISS_M', 'TOT_DISCWODIS_ISS_F',\n",
      "       'TOT_DISCWDIS_ISS_IDEA_M', 'TOT_DISCWDIS_ISS_IDEA_F',\n",
      "       'TOT_DISCWODIS_ARR_M', 'TOT_DISCWODIS_ARR_F', 'TOT_DISCWDIS_ARR_IDEA_M',\n",
      "       'TOT_DISCWDIS_ARR_IDEA_F', 'TOT_DISCWODIS_EXPWE_M',\n",
      "       'TOT_DISCWODIS_EXPWE_F', 'TOT_DISCWODIS_EXPWOE_M',\n",
      "       'TOT_DISCWODIS_EXPWOE_F', 'TOT_DISCWDIS_EXPWOE_IDEA_M',\n",
      "       'TOT_DISCWDIS_EXPWE_IDEA_M', 'TOT_DISCWDIS_EXPWE_IDEA_F',\n",
      "       'TOT_DISCWDIS_EXPWOE_IDEA_F', 'TOT_DISCWDIS_EXPZT_IDEA_M',\n",
      "       'TOT_DISCWDIS_EXPZT_IDEA_F'],\n",
      "      dtype='object')\n"
     ]
    }
   ],
   "source": [
    "print(school.keys())"
   ]
  },
  {
   "cell_type": "code",
   "execution_count": 7,
   "metadata": {},
   "outputs": [
    {
     "name": "stdout",
     "output_type": "stream",
     "text": [
      "(96360, 56)\n"
     ]
    }
   ],
   "source": [
    "print(school.shape)"
   ]
  },
  {
   "cell_type": "code",
   "execution_count": 8,
   "metadata": {},
   "outputs": [],
   "source": [
    "#Saving the dataframe to csv\n",
    "school.to_csv('all_states_data.csv')"
   ]
  }
 ],
 "metadata": {
  "kernelspec": {
   "display_name": "Python 3",
   "language": "python",
   "name": "python3"
  },
  "language_info": {
   "codemirror_mode": {
    "name": "ipython",
    "version": 3
   },
   "file_extension": ".py",
   "mimetype": "text/x-python",
   "name": "python",
   "nbconvert_exporter": "python",
   "pygments_lexer": "ipython3",
   "version": "3.7.1"
  }
 },
 "nbformat": 4,
 "nbformat_minor": 2
}
