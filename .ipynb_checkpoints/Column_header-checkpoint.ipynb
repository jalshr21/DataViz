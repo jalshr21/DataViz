{
 "cells": [
  {
   "cell_type": "code",
   "execution_count": 13,
   "metadata": {},
   "outputs": [],
   "source": [
    "import pandas as pd\n",
    "priority = pd.read_csv('priority.csv', encoding='latin')"
   ]
  },
  {
   "cell_type": "code",
   "execution_count": 14,
   "metadata": {},
   "outputs": [
    {
     "data": {
      "text/plain": [
       "Index(['Unnamed: 0', 'Unnamed: 0.1', 'Unnamed: 0.1.1', 'LEA_STATE_NAME',\n",
       "       'LEA_STATE', 'LEA_NAME', 'SCH_NAME', 'SCH_APENR_IND', 'SCH_APCOURSES',\n",
       "       'TOT_APENR_M', 'TOT_APENR_F', 'TOT_SATACT_M', 'TOT_SATACT_F',\n",
       "       'TOT_HBREPORTED_SEX_M', 'TOT_HBREPORTED_SEX_F', 'TOT_HBREPORTED_DIS_M',\n",
       "       'TOT_HBREPORTED_DIS_F', 'TOT_HBREPORTED_RAC_M', 'TOT_HBREPORTED_RAC_F',\n",
       "       'TOT_HBDISCIPLINED_SEX_M', 'TOT_HBDISCIPLINED_SEX_F',\n",
       "       'TOT_HBDISCIPLINED_RAC_M', 'TOT_HBDISCIPLINED_RAC_F',\n",
       "       'TOT_HBDISCIPLINED_DIS_M', 'TOT_HBDISCIPLINED_DIS_F',\n",
       "       'TOT_DISCWODIS_ISS_M', 'TOT_DISCWODIS_ISS_F', 'TOT_DISCWDIS_ISS_IDEA_M',\n",
       "       'TOT_DISCWDIS_ISS_IDEA_F', 'TOT_DISCWODIS_ARR_M', 'TOT_DISCWODIS_ARR_F',\n",
       "       'TOT_DISCWDIS_ARR_IDEA_M', 'TOT_DISCWDIS_ARR_IDEA_F',\n",
       "       'TOT_DISCWODIS_EXPWE_M', 'TOT_DISCWODIS_EXPWE_F',\n",
       "       'TOT_DISCWODIS_EXPWOE_M', 'TOT_DISCWODIS_EXPWOE_F',\n",
       "       'TOT_DISCWDIS_EXPWOE_IDEA_M', 'TOT_DISCWDIS_EXPWE_IDEA_M',\n",
       "       'TOT_DISCWDIS_EXPWE_IDEA_F', 'TOT_DISCWDIS_EXPWOE_IDEA_F',\n",
       "       'TOT_DISCWDIS_EXPZT_IDEA_M', 'TOT_DISCWDIS_EXPZT_IDEA_F', 'TOT_ENR',\n",
       "       'AVG_ENR', 'TOT_SATACT', 'VAL_SAT', 'VAL_WH', 'VAL_BL', 'VAL_HP',\n",
       "       'VAL_TR', 'VAL_HI', 'VAL_AS', 'VAL_AM', 'VAL_RACE', 'RACE_SCORE',\n",
       "       'VAL_GENDER', 'GENDER_SCORE', 'VAL_AP_COURSES', 'AP_SCORE',\n",
       "       'VAL_SATACT_COURSES', 'SATACT_SCORE', 'COURSES_SCORE', 'TOT_ARR',\n",
       "       'TOT_EXP', 'TOT_HARR', 'TOT_SUSP', 'VAL_OFFENSES', 'OFFENSES_SCORE',\n",
       "       'SCHOOL_SCORE', 'ABLE_MALE', 'ABLE_FEMALE', 'DISABLE_MALE',\n",
       "       'DISABLE_FEMALE', 'Race', 'Value', 'Gender', 'GenderValue', 'PRIORITY',\n",
       "       'EXP_ABLE_M', 'EXP_ABLE_F', 'EXP_DIS_M', 'EXP_DIS_F', 'BUL_SEX',\n",
       "       'BUL_DIS', 'BUL_RAC'],\n",
       "      dtype='object')"
      ]
     },
     "execution_count": 14,
     "metadata": {},
     "output_type": "execute_result"
    }
   ],
   "source": [
    "priority.keys()"
   ]
  },
  {
   "cell_type": "code",
   "execution_count": 15,
   "metadata": {},
   "outputs": [],
   "source": [
    "priority.drop(columns=['Unnamed: 0', 'Unnamed: 0.1', 'Unnamed: 0.1.1', 'LEA_STATE_NAME', 'SCH_APENR_IND', 'SCH_APCOURSES',\n",
    "               'TOT_APENR_M', 'TOT_APENR_F', 'TOT_SATACT_M', 'TOT_SATACT_F','TOT_SATACT', 'VAL_SAT',\n",
    "              'VAL_AP_COURSES','VAL_SATACT_COURSES', 'SATACT_SCORE'],inplace=True)"
   ]
  },
  {
   "cell_type": "code",
   "execution_count": 16,
   "metadata": {},
   "outputs": [
    {
     "data": {
      "text/plain": [
       "Index(['LEA_STATE', 'LEA_NAME', 'SCH_NAME', 'TOT_HBREPORTED_SEX_M',\n",
       "       'TOT_HBREPORTED_SEX_F', 'TOT_HBREPORTED_DIS_M', 'TOT_HBREPORTED_DIS_F',\n",
       "       'TOT_HBREPORTED_RAC_M', 'TOT_HBREPORTED_RAC_F',\n",
       "       'TOT_HBDISCIPLINED_SEX_M', 'TOT_HBDISCIPLINED_SEX_F',\n",
       "       'TOT_HBDISCIPLINED_RAC_M', 'TOT_HBDISCIPLINED_RAC_F',\n",
       "       'TOT_HBDISCIPLINED_DIS_M', 'TOT_HBDISCIPLINED_DIS_F',\n",
       "       'TOT_DISCWODIS_ISS_M', 'TOT_DISCWODIS_ISS_F', 'TOT_DISCWDIS_ISS_IDEA_M',\n",
       "       'TOT_DISCWDIS_ISS_IDEA_F', 'TOT_DISCWODIS_ARR_M', 'TOT_DISCWODIS_ARR_F',\n",
       "       'TOT_DISCWDIS_ARR_IDEA_M', 'TOT_DISCWDIS_ARR_IDEA_F',\n",
       "       'TOT_DISCWODIS_EXPWE_M', 'TOT_DISCWODIS_EXPWE_F',\n",
       "       'TOT_DISCWODIS_EXPWOE_M', 'TOT_DISCWODIS_EXPWOE_F',\n",
       "       'TOT_DISCWDIS_EXPWOE_IDEA_M', 'TOT_DISCWDIS_EXPWE_IDEA_M',\n",
       "       'TOT_DISCWDIS_EXPWE_IDEA_F', 'TOT_DISCWDIS_EXPWOE_IDEA_F',\n",
       "       'TOT_DISCWDIS_EXPZT_IDEA_M', 'TOT_DISCWDIS_EXPZT_IDEA_F', 'TOT_ENR',\n",
       "       'AVG_ENR', 'VAL_WH', 'VAL_BL', 'VAL_HP', 'VAL_TR', 'VAL_HI', 'VAL_AS',\n",
       "       'VAL_AM', 'VAL_RACE', 'RACE_SCORE', 'VAL_GENDER', 'GENDER_SCORE',\n",
       "       'AP_SCORE', 'COURSES_SCORE', 'TOT_ARR', 'TOT_EXP', 'TOT_HARR',\n",
       "       'TOT_SUSP', 'VAL_OFFENSES', 'OFFENSES_SCORE', 'SCHOOL_SCORE',\n",
       "       'ABLE_MALE', 'ABLE_FEMALE', 'DISABLE_MALE', 'DISABLE_FEMALE', 'Race',\n",
       "       'Value', 'Gender', 'GenderValue', 'PRIORITY', 'EXP_ABLE_M',\n",
       "       'EXP_ABLE_F', 'EXP_DIS_M', 'EXP_DIS_F', 'BUL_SEX', 'BUL_DIS',\n",
       "       'BUL_RAC'],\n",
       "      dtype='object')"
      ]
     },
     "execution_count": 16,
     "metadata": {},
     "output_type": "execute_result"
    }
   ],
   "source": [
    "priority.keys()"
   ]
  },
  {
   "cell_type": "code",
   "execution_count": 17,
   "metadata": {},
   "outputs": [],
   "source": [
    "priority.rename(columns={'LEA_STATE':'State','SCH_NAME':'School', 'RACE_SCORE':'Race Score', 'GENDER_SCORE':\"Gender Score\",\n",
    "                        'COURSES_SCORE':\"Courses Score\", \"OFFENSES_SCORE\":\"Offenses Score\",'SCHOOL_SCORE':\"School Score\"},inplace=True)"
   ]
  },
  {
   "cell_type": "code",
   "execution_count": 18,
   "metadata": {},
   "outputs": [],
   "source": [
    "priority.to_csv(\"final_data.csv\")"
   ]
  }
 ],
 "metadata": {
  "kernelspec": {
   "display_name": "Python 3",
   "language": "python",
   "name": "python3"
  },
  "language_info": {
   "codemirror_mode": {
    "name": "ipython",
    "version": 3
   },
   "file_extension": ".py",
   "mimetype": "text/x-python",
   "name": "python",
   "nbconvert_exporter": "python",
   "pygments_lexer": "ipython3",
   "version": "3.7.1"
  }
 },
 "nbformat": 4,
 "nbformat_minor": 2
}
